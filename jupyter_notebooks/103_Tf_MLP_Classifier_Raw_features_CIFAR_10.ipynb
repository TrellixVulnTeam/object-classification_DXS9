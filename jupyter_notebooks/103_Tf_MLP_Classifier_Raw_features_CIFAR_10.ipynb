{
 "cells": [
  {
   "cell_type": "markdown",
   "metadata": {},
   "source": [
    "## Make necessary imports"
   ]
  },
  {
   "cell_type": "code",
   "execution_count": 1,
   "metadata": {
    "collapsed": true
   },
   "outputs": [],
   "source": [
    "import sys\n",
    "sys.path.insert(0, '../')"
   ]
  },
  {
   "cell_type": "code",
   "execution_count": 2,
   "metadata": {
    "collapsed": true
   },
   "outputs": [],
   "source": [
    "import time\n",
    "import numpy as np\n",
    "np.set_printoptions(precision=3, linewidth=200, suppress=True)\n",
    "import tensorflow as tf"
   ]
  },
  {
   "cell_type": "code",
   "execution_count": 3,
   "metadata": {
    "collapsed": false
   },
   "outputs": [],
   "source": [
    "from library.datasets.cifar10 import CIFAR10\n",
    "from library.plot_tools import plot\n",
    "from library.utils import file_utils\n",
    "from library.tf.mlp_classifier import MLPClassifier"
   ]
  },
  {
   "cell_type": "markdown",
   "metadata": {},
   "source": [
    "## Select Tensorflow device"
   ]
  },
  {
   "cell_type": "code",
   "execution_count": 4,
   "metadata": {
    "collapsed": false
   },
   "outputs": [],
   "source": [
    "# from tensorflow.python.client import device_lib\n",
    "# local_device_protos = device_lib.list_local_devices()\n",
    "# cpu_devices = [x.name for x in local_device_protos if x.device_type == 'CPU']\n",
    "# gpu_devices = [x.name for x in local_device_protos if x.device_type == 'GPU']\n",
    "# print('Available CPU Devices: ', end='')\n",
    "# print(cpu_devices)\n",
    "# print('Available GPU Devices: ', end='')\n",
    "# print(gpu_devices)\n",
    "# if len(gpu_devices) == 0:\n",
    "#     if len(cpu_devices) > 0:\n",
    "#         device_name = '/cpu:0'\n",
    "#         print('Using CPU: %s' %device_name)\n",
    "#     else:\n",
    "#         print('No CPU present in the system!!!')\n",
    "# else:\n",
    "#     device_name = '/gpu:0'\n",
    "#     print('Using GPU: %s' %device_name)"
   ]
  },
  {
   "cell_type": "code",
   "execution_count": 5,
   "metadata": {
    "collapsed": true
   },
   "outputs": [],
   "source": [
    "total_time = 0"
   ]
  },
  {
   "cell_type": "markdown",
   "metadata": {},
   "source": [
    "## Experiment"
   ]
  },
  {
   "cell_type": "code",
   "execution_count": 6,
   "metadata": {
    "collapsed": true
   },
   "outputs": [],
   "source": [
    "exp_no = 10\n",
    "data_source = 'Website'\n",
    "num_images_required = 1.0\n",
    "file_no = 103"
   ]
  },
  {
   "cell_type": "markdown",
   "metadata": {},
   "source": [
    "### Parameters for experiment"
   ]
  },
  {
   "cell_type": "code",
   "execution_count": 7,
   "metadata": {
    "collapsed": true
   },
   "outputs": [],
   "source": [
    "device_name = '/gpu:0'\n",
    "learn_rate = 1.5\n",
    "train_epochs = 100\n",
    "display_step = 1\n",
    "reg_const = 0.01\n",
    "train_val_split_data = None\n",
    "train_val_split = 0.8\n",
    "transform = True\n",
    "transform_method = 'StandardScaler'\n",
    "learn_rate_type = 'constant'\n",
    "dataset = 'cifar10'\n",
    "descent_method = 'gradient'"
   ]
  },
  {
   "cell_type": "markdown",
   "metadata": {},
   "source": [
    "### Log directories"
   ]
  },
  {
   "cell_type": "code",
   "execution_count": 8,
   "metadata": {
    "collapsed": false
   },
   "outputs": [
    {
     "name": "stdout",
     "output_type": "stream",
     "text": [
      "Writing tensorboard logs to ../logs/cifar10/103_tf_mlp_raw/exp_no_010/mlp_classifier.ckpt\n",
      "View logs by running tensorboard: \"tensorboard --logdir='./cifar10/103_tf_mlp_raw/' --port 61111\"\n"
     ]
    }
   ],
   "source": [
    "log_dir = '../logs/' + dataset + '/' + str(file_no).zfill(3) + '_tf_mlp_raw/exp_no_' + str(exp_no).zfill(3) + '/'\n",
    "log_file = log_dir + 'mlp_classifier.ckpt'\n",
    "model_file = log_dir + 'mlp_classifier.pb'\n",
    "print('Writing tensorboard logs to %s' % log_file)\n",
    "print('View logs by running tensorboard: ', end='')\n",
    "print('\\\"tensorboard --logdir=\\'./%s/103_tf_mlp_raw/\\' --port 61111\\\"' %dataset)"
   ]
  },
  {
   "cell_type": "markdown",
   "metadata": {},
   "source": [
    "## Step 1: Load CIFAR 10 Dataset"
   ]
  },
  {
   "cell_type": "code",
   "execution_count": 9,
   "metadata": {
    "collapsed": false
   },
   "outputs": [
    {
     "name": "stdout",
     "output_type": "stream",
     "text": [
      "Loading CIFAR 10 Dataset\n",
      "Downloading and extracting CIFAR 10 file\n",
      "MD5sum of the file: ./datasets/cifar10/cifar-10.tar.gz is verified\n",
      "Loading 50000 train images\n",
      "Loading CIFAR 10 Training Dataset\n",
      "Reading unpicked data file: ./datasets/cifar10/cifar-10-batches/data_batch_1\n",
      "Reading unpicked data file: ./datasets/cifar10/cifar-10-batches/data_batch_2\n",
      "Reading unpicked data file: ./datasets/cifar10/cifar-10-batches/data_batch_3\n",
      "Reading unpicked data file: ./datasets/cifar10/cifar-10-batches/data_batch_4\n",
      "Reading unpicked data file: ./datasets/cifar10/cifar-10-batches/data_batch_5\n"
     ]
    },
    {
     "name": "stderr",
     "output_type": "stream",
     "text": [
      "/net/voxel03/misc/me/praneethas/Softwares/anaconda3/lib/python3.6/site-packages/sklearn/utils/validation.py:429: DataConversionWarning: Data with input dtype uint8 was converted to float64 by StandardScaler.\n",
      "  warnings.warn(msg, _DataConversionWarning)\n"
     ]
    },
    {
     "name": "stdout",
     "output_type": "stream",
     "text": [
      "Loading 10000 test images\n",
      "Loading CIFAR 10 Test Dataset\n",
      "Unpickling test file: ./datasets/cifar10/cifar-10-batches/test_batch\n",
      "Reading unpicked test file: ./datasets/cifar10/cifar-10-batches/test_batch\n",
      "Loaded CIFAR 10 Dataset in 8.5198 seconds\n",
      "[ Step 1] Loaded CIFAR 10 Dataset in 8521.2324 ms\n"
     ]
    }
   ],
   "source": [
    "start = time.time()\n",
    "one_hot = True\n",
    "cifar10 = CIFAR10(one_hot_encode=one_hot, num_images=num_images_required, preprocess='StandardScaler',\n",
    "                  train_validate_split=train_val_split_data, endian='little')\n",
    "cifar10.load_data(train=True, test=True, data_directory='./datasets/cifar10/')\n",
    "end = time.time()\n",
    "print('[ Step 1] Loaded CIFAR 10 Dataset in %.4f ms' %((end-start)*1000))\n",
    "total_time += (end-start)"
   ]
  },
  {
   "cell_type": "code",
   "execution_count": 10,
   "metadata": {
    "collapsed": false
   },
   "outputs": [],
   "source": [
    "# print('Train data shape:', cifar10.train.data.shape)\n",
    "# if one_hot is True:\n",
    "#     print('Train labels shape:', cifar10.train.one_hot_labels.shape)\n",
    "# print('Train class labels shape:', cifar10.train.class_labels.shape)\n",
    "# if train_val_split_data is not None:\n",
    "#     print('Validate data shape:', cifar10.validate.data.shape)\n",
    "#     if one_hot is True:\n",
    "#         print('Validate labels shape:', cifar10.validate.one_hot_labels.shape)\n",
    "#     print('Validate class labels shape:', cifar10.validate.class_labels.shape)\n",
    "# print('Test data shape:', cifar10.test.data.shape)\n",
    "# if one_hot is True:\n",
    "#     print('Test labels shape:', cifar10.test.one_hot_labels.shape)\n",
    "# print('Test class labels shape:', cifar10.test.class_labels.shape)"
   ]
  },
  {
   "cell_type": "code",
   "execution_count": 11,
   "metadata": {
    "collapsed": false,
    "scrolled": true
   },
   "outputs": [],
   "source": [
    "# print('Training images')\n",
    "# print(cifar10.train.data[:5])\n",
    "# if one_hot is True:\n",
    "#     print('Training labels')\n",
    "#     print(cifar10.train.one_hot_labels[:5])\n",
    "# print('Training classes')\n",
    "# print(cifar10.train.class_labels[:5])\n",
    "# print('Testing images')\n",
    "# print(cifar10.test.data[:5])\n",
    "# if one_hot is True:\n",
    "#     print('Testing labels')\n",
    "#     print(cifar10.test.one_hot_labels[:5])\n",
    "# print('Testing classes')\n",
    "# print(cifar10.test.class_labels[:5])"
   ]
  },
  {
   "cell_type": "markdown",
   "metadata": {},
   "source": [
    "## Step 1.1 Load sample images"
   ]
  },
  {
   "cell_type": "code",
   "execution_count": 12,
   "metadata": {
    "collapsed": false,
    "scrolled": true
   },
   "outputs": [],
   "source": [
    "# cifar10.plot_sample(plot_data=True, plot_test=True, fig_size=(7, 7))"
   ]
  },
  {
   "cell_type": "code",
   "execution_count": 13,
   "metadata": {
    "collapsed": false
   },
   "outputs": [],
   "source": [
    "# cifar10.plot_images(cifar10.train.data[:50, :], cifar10.train.class_names[:50], \n",
    "#                     nrows=5, ncols=10, fig_size=(20,50), fontsize=35, convert=True)"
   ]
  },
  {
   "cell_type": "markdown",
   "metadata": {},
   "source": [
    "## Step 2: Linear Regression"
   ]
  },
  {
   "cell_type": "markdown",
   "metadata": {},
   "source": [
    "### Step 2.1: Model linear regression y = Wx + b"
   ]
  },
  {
   "cell_type": "code",
   "execution_count": 14,
   "metadata": {
    "collapsed": false
   },
   "outputs": [],
   "source": [
    "num_features = cifar10.train.data.shape[1]\n",
    "num_classes = 10"
   ]
  },
  {
   "cell_type": "code",
   "execution_count": 15,
   "metadata": {
    "collapsed": true
   },
   "outputs": [],
   "source": [
    "network_config = {'layer_1': {'weight': {'name': 'Weight_1', 'type': 'random_normal'},\n",
    "                              'bias': {'name': 'Bias_1', 'type': 'random_normal'},\n",
    "                              'activation_fn': 'sigmoid',\n",
    "                              'num_nodes': 3072,\n",
    "                              'layer_name': 'Layer_1'\n",
    "                              },\n",
    "                  'layer_2': {'weight': {'name': 'Weight_2', 'type': 'random_normal'},\n",
    "                              'bias': {'name': 'Bias_2', 'type': 'random_normal'},\n",
    "                              'activation_fn': 'sigmoid',\n",
    "                              'num_nodes': 3072,\n",
    "                              'layer_name': 'Layer_2'\n",
    "                              },\n",
    "                  'output_layer': {'weight': {'name': 'Output_Weight', 'type': 'random_normal'},\n",
    "                                   'bias': {'name': 'Output_Bias', 'type': 'random_normal'},\n",
    "                                   'activation_fn': 'sigmoid',\n",
    "                                   'layer_name': 'Output_Layer'\n",
    "                                  }\n",
    "                 }"
   ]
  },
  {
   "cell_type": "code",
   "execution_count": 16,
   "metadata": {
    "collapsed": false
   },
   "outputs": [],
   "source": [
    "mlp = MLPClassifier(verbose=False, device=device_name, session_type='interactive', num_iter=train_epochs, \n",
    "                    err_tolerance=1e-7, train_validate_split=train_val_split, display_step=display_step,\n",
    "                    learn_step=10, learn_rate_type=learn_rate_type, learn_rate=learn_rate, reg_const=reg_const, \n",
    "                    logs=True, log_dir=log_dir, test_log=True, save_model=True, checkpoint_filename=log_file, \n",
    "                    save_checkpoint=True, restore=False, model_name=model_file, config=network_config)"
   ]
  },
  {
   "cell_type": "markdown",
   "metadata": {},
   "source": [
    "### Step 2.2: Create the tensorflow graph"
   ]
  },
  {
   "cell_type": "code",
   "execution_count": 17,
   "metadata": {
    "collapsed": false
   },
   "outputs": [
    {
     "name": "stdout",
     "output_type": "stream",
     "text": [
      "Session: <tensorflow.python.client.session.InteractiveSession object at 0x7f511aa04748>\n",
      "Model has been trained for 0 iterations\n",
      "Tensorflow graph created in 1.0844 seconds\n",
      "Generated the tensorflow graph in 1084.7902 ms\n"
     ]
    }
   ],
   "source": [
    "start = time.time()\n",
    "mlp.create_graph(num_features=num_features, num_classes=num_classes)\n",
    "end = time.time()\n",
    "print('Generated the tensorflow graph in %.4f ms' %((end-start)*1000))\n",
    "total_time = (end-start)"
   ]
  },
  {
   "cell_type": "code",
   "execution_count": 18,
   "metadata": {
    "collapsed": false
   },
   "outputs": [
    {
     "name": "stdout",
     "output_type": "stream",
     "text": [
      "Parameters for MLP classifier\n",
      ">> Input Parameters\n",
      "Input                  : Tensor(\"Inputs/Data/X_input:0\", shape=(?, 3072), dtype=float32, device=/device:GPU:0) \n",
      "True one hot labels    : Tensor(\"Inputs/Train_Labels/y_true_one_hot_label:0\", shape=(?, 10), dtype=float32, device=/device:GPU:0) \n",
      "True class             : Tensor(\"Inputs/Train_Labels/y_true_class:0\", shape=(?,), dtype=int64, device=/device:GPU:0) \n",
      "Predict one hot labels : Tensor(\"Predictions/one_hot:0\", shape=(?, 10), dtype=float32, device=/device:GPU:0) \n",
      "Predict class          : Tensor(\"Predictions/ArgMax:0\", shape=(?,), dtype=int64, device=/device:GPU:0) \n",
      ">> Layer 1\n",
      "\tWeights : Tensor(\"Parameters/Weights/Weight_1/read:0\", shape=(3072, 3072), dtype=float32, device=/device:GPU:0)\n",
      "\tBias    : Tensor(\"Parameters/Bias/Bias_1/read:0\", shape=(3072,), dtype=float32, device=/device:GPU:0)\n",
      "\tLayer   : Tensor(\"Hidden_Layers/Layer_1_1:0\", shape=(?, 3072), dtype=float32, device=/device:GPU:0)\n",
      ">> Layer 2\n",
      "\tWeights : Tensor(\"Parameters/Weights/Weight_2/read:0\", shape=(3072, 3072), dtype=float32, device=/device:GPU:0)\n",
      "\tBias    : Tensor(\"Parameters/Bias/Bias_2/read:0\", shape=(3072,), dtype=float32, device=/device:GPU:0)\n",
      "\tLayer   : Tensor(\"Hidden_Layers/Layer_2_1:0\", shape=(?, 3072), dtype=float32, device=/device:GPU:0)\n",
      ">> Outer Layer\n",
      "\tWeights      : Tensor(\"Output_Layer/Output_Weight/read:0\", shape=(3072, 10), dtype=float32, device=/device:GPU:0)\n",
      "\tBias         : Tensor(\"Output_Layer/Output_Bias/read:0\", shape=(10,), dtype=float32, device=/device:GPU:0)\n",
      "\tOutput Layer : Tensor(\"Output_Layer/Output_Layer_1:0\", shape=(?, 10), dtype=float32, device=/device:GPU:0)\n",
      "Output Logits  : Tensor(\"Predictions/Softmax:0\", shape=(?, 10), dtype=float32, device=/device:GPU:0)\n",
      "Entropy        : Tensor(\"Cross_Entropy/Reshape_2:0\", shape=(?,), dtype=float32, device=/device:GPU:0)\n",
      "Predictions    : Tensor(\"Equal:0\", shape=(?,), dtype=bool, device=/device:GPU:0) \n",
      "Optimizer      : name: \"Optimizer/GradientDescent\"\n",
      "op: \"NoOp\"\n",
      "input: \"^Optimizer/GradientDescent/update_Parameters/Weights/Weight_1/ApplyGradientDescent\"\n",
      "input: \"^Optimizer/GradientDescent/update_Parameters/Weights/Weight_2/ApplyGradientDescent\"\n",
      "input: \"^Optimizer/GradientDescent/update_Parameters/Bias/Bias_1/ApplyGradientDescent\"\n",
      "input: \"^Optimizer/GradientDescent/update_Parameters/Bias/Bias_2/ApplyGradientDescent\"\n",
      "input: \"^Optimizer/GradientDescent/update_Output_Layer/Output_Weight/ApplyGradientDescent\"\n",
      "input: \"^Optimizer/GradientDescent/update_Output_Layer/Output_Bias/ApplyGradientDescent\"\n",
      "device: \"/device:GPU:0\"\n",
      " \n",
      ">> Model params\n",
      "Train loss     : Tensor(\"Loss_Function/Add:0\", shape=(), dtype=float32, device=/device:GPU:0)\n",
      "Train accuracy : Tensor(\"Accuracy/Mean:0\", shape=(), dtype=float32, device=/device:GPU:0)\n",
      "Val. loss      : Tensor(\"Loss_Function/Add:0\", shape=(), dtype=float32, device=/device:GPU:0)\n",
      "Val. accuracy  : Tensor(\"Accuracy/Mean_1:0\", shape=(), dtype=float32, device=/device:GPU:0)\n",
      ">> Summary params\n",
      "Train loss     : Tensor(\"Loss_Function/train_error:0\", shape=(), dtype=string, device=/device:GPU:0)\n",
      "Train accuracy : Tensor(\"Accuracy/train_accuracy:0\", shape=(), dtype=string, device=/device:GPU:0)\n",
      "Val. loss      : Tensor(\"Loss_Function/validate_error:0\", shape=(), dtype=string, device=/device:GPU:0)\n",
      "Val. accuracy  : Tensor(\"Accuracy/validate_accuracy:0\", shape=(), dtype=string, device=/device:GPU:0)\n"
     ]
    }
   ],
   "source": [
    "mlp.print_parameters()"
   ]
  },
  {
   "cell_type": "markdown",
   "metadata": {},
   "source": [
    "### Step 2.3: Fit the model/training"
   ]
  },
  {
   "cell_type": "code",
   "execution_count": 19,
   "metadata": {
    "collapsed": false
   },
   "outputs": [
    {
     "name": "stdout",
     "output_type": "stream",
     "text": [
      "Length of train loss          : 0\n",
      "Length of train accuracy      : 0\n",
      "Length of validate loss       : 0\n",
      "Length of validate accuracy   : 0\n",
      "Length of test accuracy       : 0\n",
      "Restoring training from epoch : 0\n",
      ">>> Epoch [  0/100]\n",
      "train_loss: 2.1459 | train_acc: 0.2031 | val_loss: 2.2145 | val_acc: 0.1587 | test_acc: 0.1625 | Time: 6.5826 s\n",
      ">>> Epoch [  1/100]\n",
      "train_loss: 2.0881 | train_acc: 0.2188 | val_loss: 2.1499 | val_acc: 0.2132 | test_acc: 0.2152 | Time: 6.2144 s\n",
      ">>> Epoch [  2/100]\n",
      "train_loss: 2.0426 | train_acc: 0.3047 | val_loss: 2.1230 | val_acc: 0.2366 | test_acc: 0.2311 | Time: 6.2421 s\n",
      ">>> Epoch [  3/100]\n",
      "train_loss: 2.0148 | train_acc: 0.2734 | val_loss: 2.1092 | val_acc: 0.2456 | test_acc: 0.2451 | Time: 6.4061 s\n",
      ">>> Epoch [  4/100]\n",
      "train_loss: 2.0001 | train_acc: 0.3516 | val_loss: 2.0887 | val_acc: 0.2606 | test_acc: 0.2625 | Time: 6.2348 s\n",
      ">>> Epoch [  5/100]\n",
      "train_loss: 2.0066 | train_acc: 0.3516 | val_loss: 2.0786 | val_acc: 0.2683 | test_acc: 0.2718 | Time: 6.7619 s\n",
      ">>> Epoch [  6/100]\n",
      "train_loss: 1.9943 | train_acc: 0.3281 | val_loss: 2.0720 | val_acc: 0.2761 | test_acc: 0.2800 | Time: 6.4220 s\n",
      ">>> Epoch [  7/100]\n",
      "train_loss: 1.9926 | train_acc: 0.3203 | val_loss: 2.0605 | val_acc: 0.2821 | test_acc: 0.2809 | Time: 6.4292 s\n",
      ">>> Epoch [  8/100]\n",
      "train_loss: 1.9741 | train_acc: 0.3672 | val_loss: 2.0597 | val_acc: 0.2970 | test_acc: 0.2965 | Time: 6.3667 s\n",
      ">>> Epoch [  9/100]\n",
      "train_loss: 1.9649 | train_acc: 0.3984 | val_loss: 2.0533 | val_acc: 0.2985 | test_acc: 0.2984 | Time: 6.3896 s\n",
      ">>> Epoch [ 10/100]\n",
      "train_loss: 1.9640 | train_acc: 0.3672 | val_loss: 2.0541 | val_acc: 0.2981 | test_acc: 0.3003 | Time: 6.3089 s\n",
      ">>> Epoch [ 11/100]\n",
      "train_loss: 1.9680 | train_acc: 0.3438 | val_loss: 2.0520 | val_acc: 0.2959 | test_acc: 0.2979 | Time: 6.7086 s\n",
      ">>> Epoch [ 12/100]\n",
      "train_loss: 1.9541 | train_acc: 0.4062 | val_loss: 2.0466 | val_acc: 0.3082 | test_acc: 0.3094 | Time: 6.3949 s\n",
      ">>> Epoch [ 13/100]\n",
      "train_loss: 1.9381 | train_acc: 0.4062 | val_loss: 2.0472 | val_acc: 0.3106 | test_acc: 0.3096 | Time: 6.7643 s\n",
      ">>> Epoch [ 14/100]\n",
      "train_loss: 1.8987 | train_acc: 0.4219 | val_loss: 2.0451 | val_acc: 0.3071 | test_acc: 0.3106 | Time: 6.3450 s\n",
      ">>> Epoch [ 15/100]\n",
      "train_loss: 1.9604 | train_acc: 0.4219 | val_loss: 2.0370 | val_acc: 0.3014 | test_acc: 0.3004 | Time: 6.3534 s\n",
      ">>> Epoch [ 16/100]\n",
      "train_loss: 1.9791 | train_acc: 0.3516 | val_loss: 2.0377 | val_acc: 0.3183 | test_acc: 0.3259 | Time: 6.3661 s\n",
      ">>> Epoch [ 17/100]\n",
      "train_loss: 1.9136 | train_acc: 0.4219 | val_loss: 2.0349 | val_acc: 0.3110 | test_acc: 0.3119 | Time: 6.4081 s\n",
      ">>> Epoch [ 18/100]\n",
      "train_loss: 1.9206 | train_acc: 0.4297 | val_loss: 2.0372 | val_acc: 0.3171 | test_acc: 0.3254 | Time: 6.3890 s\n",
      ">>> Epoch [ 19/100]\n",
      "train_loss: 1.9119 | train_acc: 0.4297 | val_loss: 2.0329 | val_acc: 0.3209 | test_acc: 0.3345 | Time: 6.3988 s\n",
      ">>> Epoch [ 20/100]\n",
      "train_loss: 1.8912 | train_acc: 0.3906 | val_loss: 2.0324 | val_acc: 0.3255 | test_acc: 0.3374 | Time: 6.4461 s\n",
      ">>> Epoch [ 21/100]\n",
      "train_loss: 1.8938 | train_acc: 0.4062 | val_loss: 2.0292 | val_acc: 0.3325 | test_acc: 0.3309 | Time: 6.4710 s\n",
      ">>> Epoch [ 22/100]\n",
      "train_loss: 1.9027 | train_acc: 0.4141 | val_loss: 2.0255 | val_acc: 0.3212 | test_acc: 0.3309 | Time: 6.5178 s\n",
      ">>> Epoch [ 23/100]\n",
      "train_loss: 1.9184 | train_acc: 0.3906 | val_loss: 2.0261 | val_acc: 0.3323 | test_acc: 0.3362 | Time: 6.4350 s\n",
      ">>> Epoch [ 24/100]\n",
      "train_loss: 1.9340 | train_acc: 0.4141 | val_loss: 2.0290 | val_acc: 0.3269 | test_acc: 0.3342 | Time: 6.6261 s\n",
      ">>> Epoch [ 25/100]\n",
      "train_loss: 1.9157 | train_acc: 0.4609 | val_loss: 2.0256 | val_acc: 0.3240 | test_acc: 0.3229 | Time: 6.4364 s\n",
      ">>> Epoch [ 26/100]\n",
      "train_loss: 1.9215 | train_acc: 0.4062 | val_loss: 2.0207 | val_acc: 0.3289 | test_acc: 0.3406 | Time: 6.6080 s\n",
      ">>> Epoch [ 27/100]\n",
      "train_loss: 1.8920 | train_acc: 0.4375 | val_loss: 2.0211 | val_acc: 0.3398 | test_acc: 0.3461 | Time: 6.4038 s\n",
      ">>> Epoch [ 28/100]\n",
      "train_loss: 1.8965 | train_acc: 0.4688 | val_loss: 2.0218 | val_acc: 0.3335 | test_acc: 0.3342 | Time: 6.3877 s\n",
      ">>> Epoch [ 29/100]\n",
      "train_loss: 1.8742 | train_acc: 0.4531 | val_loss: 2.0166 | val_acc: 0.3463 | test_acc: 0.3470 | Time: 6.4437 s\n",
      ">>> Epoch [ 30/100]\n",
      "train_loss: 1.8819 | train_acc: 0.5469 | val_loss: 2.0188 | val_acc: 0.3393 | test_acc: 0.3526 | Time: 6.4266 s\n",
      ">>> Epoch [ 31/100]\n",
      "train_loss: 1.8867 | train_acc: 0.4297 | val_loss: 2.0190 | val_acc: 0.3439 | test_acc: 0.3457 | Time: 6.5491 s\n",
      ">>> Epoch [ 32/100]\n",
      "train_loss: 1.8679 | train_acc: 0.5078 | val_loss: 2.0186 | val_acc: 0.3423 | test_acc: 0.3433 | Time: 6.4089 s\n",
      ">>> Epoch [ 33/100]\n",
      "train_loss: 1.8781 | train_acc: 0.5312 | val_loss: 2.0181 | val_acc: 0.3483 | test_acc: 0.3531 | Time: 6.4911 s\n",
      ">>> Epoch [ 34/100]\n",
      "train_loss: 1.8551 | train_acc: 0.5078 | val_loss: 2.0152 | val_acc: 0.3465 | test_acc: 0.3500 | Time: 6.4929 s\n",
      ">>> Epoch [ 35/100]\n",
      "train_loss: 1.8631 | train_acc: 0.5156 | val_loss: 2.0138 | val_acc: 0.3529 | test_acc: 0.3530 | Time: 6.4917 s\n",
      ">>> Epoch [ 36/100]\n",
      "train_loss: 1.8668 | train_acc: 0.4688 | val_loss: 2.0144 | val_acc: 0.3551 | test_acc: 0.3557 | Time: 6.5231 s\n",
      ">>> Epoch [ 37/100]\n",
      "train_loss: 1.8581 | train_acc: 0.4688 | val_loss: 2.0087 | val_acc: 0.3511 | test_acc: 0.3588 | Time: 6.4717 s\n",
      ">>> Epoch [ 38/100]\n",
      "train_loss: 1.8556 | train_acc: 0.4844 | val_loss: 2.0139 | val_acc: 0.3489 | test_acc: 0.3577 | Time: 6.4985 s\n",
      ">>> Epoch [ 39/100]\n",
      "train_loss: 1.8679 | train_acc: 0.5000 | val_loss: 2.0077 | val_acc: 0.3529 | test_acc: 0.3603 | Time: 6.5488 s\n",
      ">>> Epoch [ 40/100]\n",
      "train_loss: 1.8589 | train_acc: 0.4688 | val_loss: 2.0118 | val_acc: 0.3528 | test_acc: 0.3590 | Time: 6.7854 s\n",
      ">>> Epoch [ 41/100]\n",
      "train_loss: 1.8684 | train_acc: 0.4766 | val_loss: 2.0059 | val_acc: 0.3609 | test_acc: 0.3596 | Time: 6.4537 s\n",
      ">>> Epoch [ 42/100]\n",
      "train_loss: 1.8696 | train_acc: 0.4922 | val_loss: 2.0085 | val_acc: 0.3599 | test_acc: 0.3654 | Time: 6.5577 s\n",
      ">>> Epoch [ 43/100]\n",
      "train_loss: 1.8632 | train_acc: 0.4766 | val_loss: 2.0054 | val_acc: 0.3545 | test_acc: 0.3552 | Time: 6.4702 s\n",
      ">>> Epoch [ 44/100]\n",
      "train_loss: 1.8315 | train_acc: 0.4766 | val_loss: 2.0102 | val_acc: 0.3613 | test_acc: 0.3616 | Time: 6.7178 s\n",
      ">>> Epoch [ 45/100]\n",
      "train_loss: 1.8630 | train_acc: 0.4609 | val_loss: 2.0111 | val_acc: 0.3554 | test_acc: 0.3575 | Time: 6.4755 s\n",
      ">>> Epoch [ 46/100]\n",
      "train_loss: 1.8321 | train_acc: 0.4922 | val_loss: 2.0118 | val_acc: 0.3612 | test_acc: 0.3615 | Time: 6.8434 s\n",
      ">>> Epoch [ 47/100]\n",
      "train_loss: 1.8477 | train_acc: 0.4766 | val_loss: 2.0098 | val_acc: 0.3588 | test_acc: 0.3521 | Time: 6.4628 s\n",
      ">>> Epoch [ 48/100]\n",
      "train_loss: 1.8674 | train_acc: 0.5000 | val_loss: 2.0100 | val_acc: 0.3571 | test_acc: 0.3561 | Time: 6.5999 s\n",
      ">>> Epoch [ 49/100]\n",
      "train_loss: 1.8442 | train_acc: 0.5234 | val_loss: 2.0091 | val_acc: 0.3562 | test_acc: 0.3579 | Time: 6.5323 s\n",
      ">>> Epoch [ 50/100]\n",
      "train_loss: 1.8377 | train_acc: 0.5156 | val_loss: 2.0107 | val_acc: 0.3574 | test_acc: 0.3569 | Time: 6.5299 s\n",
      ">>> Epoch [ 51/100]\n",
      "train_loss: 1.8412 | train_acc: 0.5703 | val_loss: 2.0048 | val_acc: 0.3593 | test_acc: 0.3650 | Time: 6.4807 s\n",
      ">>> Epoch [ 52/100]\n",
      "train_loss: 1.8387 | train_acc: 0.5156 | val_loss: 2.0100 | val_acc: 0.3669 | test_acc: 0.3677 | Time: 6.4895 s\n",
      ">>> Epoch [ 53/100]\n",
      "train_loss: 1.8388 | train_acc: 0.5234 | val_loss: 2.0089 | val_acc: 0.3631 | test_acc: 0.3727 | Time: 6.6394 s\n",
      ">>> Epoch [ 54/100]\n",
      "train_loss: 1.8520 | train_acc: 0.4922 | val_loss: 2.0024 | val_acc: 0.3628 | test_acc: 0.3720 | Time: 6.5464 s\n",
      ">>> Epoch [ 55/100]\n",
      "train_loss: 1.8425 | train_acc: 0.5312 | val_loss: 2.0035 | val_acc: 0.3683 | test_acc: 0.3712 | Time: 6.5168 s\n",
      ">>> Epoch [ 56/100]\n",
      "train_loss: 1.8301 | train_acc: 0.5547 | val_loss: 2.0063 | val_acc: 0.3709 | test_acc: 0.3737 | Time: 6.4396 s\n",
      ">>> Epoch [ 57/100]\n",
      "train_loss: 1.8326 | train_acc: 0.5156 | val_loss: 2.0021 | val_acc: 0.3669 | test_acc: 0.3658 | Time: 6.4605 s\n",
      ">>> Epoch [ 58/100]\n",
      "train_loss: 1.8319 | train_acc: 0.5391 | val_loss: 1.9980 | val_acc: 0.3684 | test_acc: 0.3740 | Time: 6.5136 s\n",
      ">>> Epoch [ 59/100]\n",
      "train_loss: 1.8463 | train_acc: 0.5234 | val_loss: 2.0023 | val_acc: 0.3656 | test_acc: 0.3763 | Time: 6.8571 s\n",
      ">>> Epoch [ 60/100]\n",
      "train_loss: 1.8427 | train_acc: 0.5625 | val_loss: 2.0032 | val_acc: 0.3671 | test_acc: 0.3806 | Time: 6.4747 s\n",
      ">>> Epoch [ 61/100]\n",
      "train_loss: 1.8243 | train_acc: 0.5234 | val_loss: 2.0053 | val_acc: 0.3706 | test_acc: 0.3813 | Time: 6.8685 s\n",
      ">>> Epoch [ 62/100]\n",
      "train_loss: 1.8352 | train_acc: 0.5156 | val_loss: 2.0010 | val_acc: 0.3674 | test_acc: 0.3841 | Time: 6.5336 s\n",
      ">>> Epoch [ 63/100]\n",
      "train_loss: 1.8267 | train_acc: 0.5469 | val_loss: 2.0004 | val_acc: 0.3696 | test_acc: 0.3814 | Time: 6.6388 s\n",
      ">>> Epoch [ 64/100]\n",
      "train_loss: 1.8510 | train_acc: 0.4688 | val_loss: 2.0012 | val_acc: 0.3792 | test_acc: 0.3807 | Time: 6.5990 s\n",
      ">>> Epoch [ 65/100]\n",
      "train_loss: 1.8646 | train_acc: 0.5234 | val_loss: 2.0050 | val_acc: 0.3821 | test_acc: 0.3885 | Time: 6.5991 s\n",
      ">>> Epoch [ 66/100]\n",
      "train_loss: 1.8444 | train_acc: 0.5000 | val_loss: 2.0015 | val_acc: 0.3712 | test_acc: 0.3802 | Time: 6.7278 s\n",
      ">>> Epoch [ 67/100]\n",
      "train_loss: 1.8404 | train_acc: 0.5000 | val_loss: 2.0034 | val_acc: 0.3722 | test_acc: 0.3840 | Time: 6.4735 s\n",
      ">>> Epoch [ 68/100]\n",
      "train_loss: 1.8441 | train_acc: 0.4766 | val_loss: 1.9987 | val_acc: 0.3733 | test_acc: 0.3842 | Time: 6.4908 s\n",
      ">>> Epoch [ 69/100]\n",
      "train_loss: 1.8452 | train_acc: 0.4766 | val_loss: 2.0036 | val_acc: 0.3737 | test_acc: 0.3772 | Time: 6.5916 s\n",
      ">>> Epoch [ 70/100]\n",
      "train_loss: 1.8114 | train_acc: 0.5547 | val_loss: 1.9975 | val_acc: 0.3675 | test_acc: 0.3721 | Time: 6.5262 s\n",
      ">>> Epoch [ 71/100]\n",
      "train_loss: 1.8136 | train_acc: 0.5547 | val_loss: 2.0015 | val_acc: 0.3682 | test_acc: 0.3683 | Time: 6.5916 s\n",
      ">>> Epoch [ 72/100]\n",
      "train_loss: 1.7913 | train_acc: 0.5547 | val_loss: 2.0076 | val_acc: 0.3647 | test_acc: 0.3696 | Time: 6.6760 s\n",
      ">>> Epoch [ 73/100]\n",
      "train_loss: 1.8098 | train_acc: 0.5469 | val_loss: 2.0020 | val_acc: 0.3729 | test_acc: 0.3737 | Time: 6.5230 s\n",
      ">>> Epoch [ 74/100]\n",
      "train_loss: 1.8074 | train_acc: 0.5703 | val_loss: 2.0009 | val_acc: 0.3669 | test_acc: 0.3762 | Time: 6.6430 s\n",
      ">>> Epoch [ 75/100]\n",
      "train_loss: 1.8141 | train_acc: 0.5000 | val_loss: 2.0010 | val_acc: 0.3741 | test_acc: 0.3728 | Time: 6.5778 s\n",
      ">>> Epoch [ 76/100]\n",
      "train_loss: 1.8328 | train_acc: 0.5078 | val_loss: 2.0028 | val_acc: 0.3761 | test_acc: 0.3768 | Time: 6.8431 s\n",
      ">>> Epoch [ 77/100]\n",
      "train_loss: 1.8067 | train_acc: 0.5625 | val_loss: 2.0010 | val_acc: 0.3713 | test_acc: 0.3755 | Time: 6.5887 s\n",
      ">>> Epoch [ 78/100]\n",
      "train_loss: 1.8076 | train_acc: 0.5781 | val_loss: 2.0013 | val_acc: 0.3817 | test_acc: 0.3858 | Time: 6.5904 s\n",
      ">>> Epoch [ 79/100]\n",
      "train_loss: 1.8178 | train_acc: 0.5078 | val_loss: 1.9963 | val_acc: 0.3699 | test_acc: 0.3722 | Time: 6.6033 s\n",
      ">>> Epoch [ 80/100]\n",
      "train_loss: 1.8000 | train_acc: 0.5625 | val_loss: 2.0058 | val_acc: 0.3794 | test_acc: 0.3830 | Time: 6.5970 s\n",
      ">>> Epoch [ 81/100]\n",
      "train_loss: 1.8093 | train_acc: 0.5156 | val_loss: 2.0015 | val_acc: 0.3811 | test_acc: 0.3864 | Time: 6.7730 s\n",
      ">>> Epoch [ 82/100]\n",
      "train_loss: 1.7867 | train_acc: 0.5469 | val_loss: 1.9954 | val_acc: 0.3755 | test_acc: 0.3775 | Time: 6.6755 s\n",
      ">>> Epoch [ 83/100]\n",
      "train_loss: 1.7971 | train_acc: 0.5859 | val_loss: 1.9963 | val_acc: 0.3834 | test_acc: 0.3774 | Time: 6.8173 s\n",
      ">>> Epoch [ 84/100]\n",
      "train_loss: 1.7972 | train_acc: 0.5625 | val_loss: 1.9968 | val_acc: 0.3771 | test_acc: 0.3801 | Time: 6.5738 s\n",
      ">>> Epoch [ 85/100]\n",
      "train_loss: 1.8167 | train_acc: 0.5391 | val_loss: 2.0006 | val_acc: 0.3819 | test_acc: 0.3811 | Time: 6.7612 s\n",
      ">>> Epoch [ 86/100]\n",
      "train_loss: 1.8010 | train_acc: 0.5391 | val_loss: 1.9985 | val_acc: 0.3784 | test_acc: 0.3799 | Time: 6.6383 s\n",
      ">>> Epoch [ 87/100]\n",
      "train_loss: 1.8007 | train_acc: 0.5781 | val_loss: 1.9979 | val_acc: 0.3783 | test_acc: 0.3882 | Time: 6.7230 s\n",
      ">>> Epoch [ 88/100]\n",
      "train_loss: 1.7991 | train_acc: 0.5625 | val_loss: 1.9969 | val_acc: 0.3842 | test_acc: 0.3886 | Time: 6.5765 s\n",
      ">>> Epoch [ 89/100]\n",
      "train_loss: 1.7810 | train_acc: 0.5625 | val_loss: 1.9962 | val_acc: 0.3811 | test_acc: 0.3860 | Time: 6.8229 s\n",
      ">>> Epoch [ 90/100]\n",
      "train_loss: 1.7673 | train_acc: 0.6094 | val_loss: 1.9964 | val_acc: 0.3729 | test_acc: 0.3803 | Time: 6.5289 s\n",
      ">>> Epoch [ 91/100]\n",
      "train_loss: 1.7777 | train_acc: 0.5938 | val_loss: 1.9967 | val_acc: 0.3805 | test_acc: 0.3902 | Time: 6.8202 s\n",
      ">>> Epoch [ 92/100]\n",
      "train_loss: 1.7479 | train_acc: 0.5859 | val_loss: 1.9985 | val_acc: 0.3828 | test_acc: 0.3914 | Time: 6.6038 s\n",
      ">>> Epoch [ 93/100]\n",
      "train_loss: 1.7441 | train_acc: 0.6328 | val_loss: 1.9963 | val_acc: 0.3900 | test_acc: 0.3908 | Time: 7.0155 s\n",
      ">>> Epoch [ 94/100]\n",
      "train_loss: 1.7715 | train_acc: 0.6328 | val_loss: 1.9975 | val_acc: 0.3812 | test_acc: 0.3896 | Time: 6.6312 s\n",
      ">>> Epoch [ 95/100]\n",
      "train_loss: 1.7699 | train_acc: 0.6094 | val_loss: 2.0020 | val_acc: 0.3859 | test_acc: 0.3930 | Time: 6.8796 s\n",
      ">>> Epoch [ 96/100]\n",
      "train_loss: 1.7944 | train_acc: 0.6250 | val_loss: 1.9967 | val_acc: 0.3890 | test_acc: 0.3972 | Time: 6.7334 s\n",
      ">>> Epoch [ 97/100]\n",
      "train_loss: 1.7999 | train_acc: 0.6094 | val_loss: 1.9964 | val_acc: 0.3815 | test_acc: 0.3893 | Time: 6.6022 s\n",
      ">>> Epoch [ 98/100]\n",
      "train_loss: 1.7842 | train_acc: 0.5625 | val_loss: 1.9957 | val_acc: 0.3842 | test_acc: 0.3878 | Time: 6.9819 s\n",
      ">>> Epoch [ 99/100]\n",
      "train_loss: 1.8034 | train_acc: 0.5547 | val_loss: 1.9994 | val_acc: 0.3827 | test_acc: 0.3860 | Time: 6.6352 s\n",
      "Fit completed in 8.3449 seconds\n",
      "Saving the graph to ../logs/cifar10/103_tf_mlp_raw/exp_no_010//../logs/cifar10/103_tf_mlp_raw/exp_no_010/mlp_classifier.pb\n"
     ]
    },
    {
     "ename": "AssertionError",
     "evalue": "Predictions/predict_class is not in graph",
     "output_type": "error",
     "traceback": [
      "\u001b[0;31m---------------------------------------------------------------------------\u001b[0m",
      "\u001b[0;31mAssertionError\u001b[0m                            Traceback (most recent call last)",
      "\u001b[0;32m<ipython-input-19-9c664e9cfb66>\u001b[0m in \u001b[0;36m<module>\u001b[0;34m()\u001b[0m\n\u001b[1;32m      1\u001b[0m \u001b[0mstart\u001b[0m \u001b[0;34m=\u001b[0m \u001b[0mtime\u001b[0m\u001b[0;34m.\u001b[0m\u001b[0mtime\u001b[0m\u001b[0;34m(\u001b[0m\u001b[0;34m)\u001b[0m\u001b[0;34m\u001b[0m\u001b[0m\n\u001b[1;32m      2\u001b[0m mlp.fit(cifar10.train.data, cifar10.train.one_hot_labels, cifar10.train.class_labels,\n\u001b[0;32m----> 3\u001b[0;31m         test_data=cifar10.test.data, test_labels=cifar10.test.one_hot_labels, test_classes=cifar10.test.class_labels)\n\u001b[0m\u001b[1;32m      4\u001b[0m \u001b[0mend\u001b[0m \u001b[0;34m=\u001b[0m \u001b[0mtime\u001b[0m\u001b[0;34m.\u001b[0m\u001b[0mtime\u001b[0m\u001b[0;34m(\u001b[0m\u001b[0;34m)\u001b[0m\u001b[0;34m\u001b[0m\u001b[0m\n\u001b[1;32m      5\u001b[0m \u001b[0mprint\u001b[0m\u001b[0;34m(\u001b[0m\u001b[0;34m'Fit completed in %.4f seconds'\u001b[0m \u001b[0;34m%\u001b[0m \u001b[0;34m(\u001b[0m\u001b[0mend\u001b[0m\u001b[0;34m-\u001b[0m\u001b[0mstart\u001b[0m\u001b[0;34m)\u001b[0m\u001b[0;34m)\u001b[0m\u001b[0;34m\u001b[0m\u001b[0m\n",
      "\u001b[0;32m/net/voxel03/misc/me/praneethas/PycharmProjects/object-recognition/library/tf/mlp_classifier.py\u001b[0m in \u001b[0;36mfit\u001b[0;34m(self, data, labels, classes, test_data, test_labels, test_classes)\u001b[0m\n\u001b[1;32m    422\u001b[0m                        \u001b[0mvalidate_data\u001b[0m\u001b[0;34m=\u001b[0m\u001b[0mvalidate_data\u001b[0m\u001b[0;34m,\u001b[0m \u001b[0mvalidate_labels\u001b[0m\u001b[0;34m=\u001b[0m\u001b[0mvalidate_labels\u001b[0m\u001b[0;34m,\u001b[0m\u001b[0;34m\u001b[0m\u001b[0m\n\u001b[1;32m    423\u001b[0m                        \u001b[0mvalidate_classes\u001b[0m\u001b[0;34m=\u001b[0m\u001b[0mvalidate_classes\u001b[0m\u001b[0;34m,\u001b[0m \u001b[0mtest_data\u001b[0m\u001b[0;34m=\u001b[0m\u001b[0mtest_data\u001b[0m\u001b[0;34m,\u001b[0m\u001b[0;34m\u001b[0m\u001b[0m\n\u001b[0;32m--> 424\u001b[0;31m                        test_labels=test_labels, test_classes=test_classes)\n\u001b[0m\u001b[1;32m    425\u001b[0m \u001b[0;34m\u001b[0m\u001b[0m\n\u001b[1;32m    426\u001b[0m     def learn(self, train_data, train_labels, train_classes,\n",
      "\u001b[0;32m/net/voxel03/misc/me/praneethas/PycharmProjects/object-recognition/library/tf/mlp_classifier.py\u001b[0m in \u001b[0;36mlearn\u001b[0;34m(self, train_data, train_labels, train_classes, validate_data, validate_labels, validate_classes, test_data, test_labels, test_classes)\u001b[0m\n\u001b[1;32m    543\u001b[0m         \u001b[0;32mif\u001b[0m \u001b[0mself\u001b[0m\u001b[0;34m.\u001b[0m\u001b[0msave_model\u001b[0m \u001b[0;32mis\u001b[0m \u001b[0;32mTrue\u001b[0m\u001b[0;34m:\u001b[0m\u001b[0;34m\u001b[0m\u001b[0m\n\u001b[1;32m    544\u001b[0m             \u001b[0mprint\u001b[0m\u001b[0;34m(\u001b[0m\u001b[0;34m'Saving the graph to %s'\u001b[0m \u001b[0;34m%\u001b[0m \u001b[0;34m(\u001b[0m\u001b[0mself\u001b[0m\u001b[0;34m.\u001b[0m\u001b[0mlogging_dir\u001b[0m\u001b[0;34m+\u001b[0m\u001b[0;34m'/'\u001b[0m\u001b[0;34m+\u001b[0m\u001b[0mself\u001b[0m\u001b[0;34m.\u001b[0m\u001b[0mmodel_name\u001b[0m\u001b[0;34m)\u001b[0m\u001b[0;34m)\u001b[0m\u001b[0;34m\u001b[0m\u001b[0m\n\u001b[0;32m--> 545\u001b[0;31m             \u001b[0mself\u001b[0m\u001b[0;34m.\u001b[0m\u001b[0mfreeze_graph\u001b[0m\u001b[0;34m(\u001b[0m\u001b[0mself\u001b[0m\u001b[0;34m.\u001b[0m\u001b[0mlogging_dir\u001b[0m\u001b[0;34m)\u001b[0m\u001b[0;34m\u001b[0m\u001b[0m\n\u001b[0m\u001b[1;32m    546\u001b[0m \u001b[0;34m\u001b[0m\u001b[0m\n\u001b[1;32m    547\u001b[0m     \u001b[0;32mdef\u001b[0m \u001b[0mpredict\u001b[0m\u001b[0;34m(\u001b[0m\u001b[0mself\u001b[0m\u001b[0;34m,\u001b[0m \u001b[0mdata\u001b[0m\u001b[0;34m)\u001b[0m\u001b[0;34m:\u001b[0m\u001b[0;34m\u001b[0m\u001b[0m\n",
      "\u001b[0;32m/net/voxel03/misc/me/praneethas/PycharmProjects/object-recognition/library/tf/mlp_classifier.py\u001b[0m in \u001b[0;36mfreeze_graph\u001b[0;34m(self, model_folder)\u001b[0m\n\u001b[1;32m    633\u001b[0m             \u001b[0mself\u001b[0m\u001b[0;34m.\u001b[0m\u001b[0msession\u001b[0m\u001b[0;34m,\u001b[0m\u001b[0;34m\u001b[0m\u001b[0m\n\u001b[1;32m    634\u001b[0m             \u001b[0minput_graph_def\u001b[0m\u001b[0;34m,\u001b[0m\u001b[0;34m\u001b[0m\u001b[0m\n\u001b[0;32m--> 635\u001b[0;31m             \u001b[0moutput_node_names\u001b[0m\u001b[0;34m.\u001b[0m\u001b[0msplit\u001b[0m\u001b[0;34m(\u001b[0m\u001b[0;34m','\u001b[0m\u001b[0;34m)\u001b[0m\u001b[0;34m\u001b[0m\u001b[0m\n\u001b[0m\u001b[1;32m    636\u001b[0m         )\n\u001b[1;32m    637\u001b[0m         \u001b[0;32mwith\u001b[0m \u001b[0mtf\u001b[0m\u001b[0;34m.\u001b[0m\u001b[0mgfile\u001b[0m\u001b[0;34m.\u001b[0m\u001b[0mGFile\u001b[0m\u001b[0;34m(\u001b[0m\u001b[0moutput_graph\u001b[0m\u001b[0;34m,\u001b[0m \u001b[0;34m'wb'\u001b[0m\u001b[0;34m)\u001b[0m \u001b[0;32mas\u001b[0m \u001b[0mf\u001b[0m\u001b[0;34m:\u001b[0m\u001b[0;34m\u001b[0m\u001b[0m\n",
      "\u001b[0;32m/net/voxel03/misc/me/praneethas/Softwares/anaconda3/lib/python3.6/site-packages/tensorflow/python/framework/graph_util_impl.py\u001b[0m in \u001b[0;36mconvert_variables_to_constants\u001b[0;34m(sess, input_graph_def, output_node_names, variable_names_whitelist, variable_names_blacklist)\u001b[0m\n\u001b[1;32m    200\u001b[0m   \u001b[0;31m# This graph only includes the nodes needed to evaluate the output nodes, and\u001b[0m\u001b[0;34m\u001b[0m\u001b[0;34m\u001b[0m\u001b[0m\n\u001b[1;32m    201\u001b[0m   \u001b[0;31m# removes unneeded nodes like those involved in saving and assignment.\u001b[0m\u001b[0;34m\u001b[0m\u001b[0;34m\u001b[0m\u001b[0m\n\u001b[0;32m--> 202\u001b[0;31m   \u001b[0minference_graph\u001b[0m \u001b[0;34m=\u001b[0m \u001b[0mextract_sub_graph\u001b[0m\u001b[0;34m(\u001b[0m\u001b[0minput_graph_def\u001b[0m\u001b[0;34m,\u001b[0m \u001b[0moutput_node_names\u001b[0m\u001b[0;34m)\u001b[0m\u001b[0;34m\u001b[0m\u001b[0m\n\u001b[0m\u001b[1;32m    203\u001b[0m \u001b[0;34m\u001b[0m\u001b[0m\n\u001b[1;32m    204\u001b[0m   \u001b[0mfound_variables\u001b[0m \u001b[0;34m=\u001b[0m \u001b[0;34m{\u001b[0m\u001b[0;34m}\u001b[0m\u001b[0;34m\u001b[0m\u001b[0m\n",
      "\u001b[0;32m/net/voxel03/misc/me/praneethas/Softwares/anaconda3/lib/python3.6/site-packages/tensorflow/python/framework/graph_util_impl.py\u001b[0m in \u001b[0;36mextract_sub_graph\u001b[0;34m(graph_def, dest_nodes)\u001b[0m\n\u001b[1;32m    139\u001b[0m \u001b[0;34m\u001b[0m\u001b[0m\n\u001b[1;32m    140\u001b[0m   \u001b[0;32mfor\u001b[0m \u001b[0md\u001b[0m \u001b[0;32min\u001b[0m \u001b[0mdest_nodes\u001b[0m\u001b[0;34m:\u001b[0m\u001b[0;34m\u001b[0m\u001b[0m\n\u001b[0;32m--> 141\u001b[0;31m     \u001b[0;32massert\u001b[0m \u001b[0md\u001b[0m \u001b[0;32min\u001b[0m \u001b[0mname_to_node_map\u001b[0m\u001b[0;34m,\u001b[0m \u001b[0;34m\"%s is not in graph\"\u001b[0m \u001b[0;34m%\u001b[0m \u001b[0md\u001b[0m\u001b[0;34m\u001b[0m\u001b[0m\n\u001b[0m\u001b[1;32m    142\u001b[0m \u001b[0;34m\u001b[0m\u001b[0m\n\u001b[1;32m    143\u001b[0m   \u001b[0mnodes_to_keep\u001b[0m \u001b[0;34m=\u001b[0m \u001b[0mset\u001b[0m\u001b[0;34m(\u001b[0m\u001b[0;34m)\u001b[0m\u001b[0;34m\u001b[0m\u001b[0m\n",
      "\u001b[0;31mAssertionError\u001b[0m: Predictions/predict_class is not in graph"
     ]
    }
   ],
   "source": [
    "start = time.time()\n",
    "mlp.fit(cifar10.train.data, cifar10.train.one_hot_labels, cifar10.train.class_labels,\n",
    "        test_data=cifar10.test.data, test_labels=cifar10.test.one_hot_labels, test_classes=cifar10.test.class_labels)\n",
    "end = time.time()\n",
    "print('Fit completed in %.4f seconds' % (end-start))"
   ]
  },
  {
   "cell_type": "markdown",
   "metadata": {},
   "source": [
    "### Step 2.4: Make the predictions"
   ]
  },
  {
   "cell_type": "code",
   "execution_count": null,
   "metadata": {
    "collapsed": false
   },
   "outputs": [],
   "source": [
    "prediction_numbers = mlp.predict(cifar10.test.data)\n",
    "prediction_classes = []\n",
    "num_test_images = cifar10.test.data.shape[0]\n",
    "for i in range(num_test_images):\n",
    "    prediction_classes.append(cifar10.classes[int(prediction_numbers[i])])"
   ]
  },
  {
   "cell_type": "code",
   "execution_count": null,
   "metadata": {
    "collapsed": false
   },
   "outputs": [],
   "source": [
    "cifar10.plot_images(cifar10.test.data[:50], cifar10.test.class_names[:50], cls_pred=prediction_classes[:50], \n",
    "                    nrows=5, ncols=10, fig_size=(20,50), fontsize=30, convert=True)"
   ]
  },
  {
   "cell_type": "markdown",
   "metadata": {},
   "source": [
    "### Step 2.5: Print the results"
   ]
  },
  {
   "cell_type": "code",
   "execution_count": null,
   "metadata": {
    "collapsed": false
   },
   "outputs": [],
   "source": [
    "test_accuracy = mlp.score(cifar10.test.data, cifar10.test.class_labels)\n",
    "print('Accuracy of the linear classifier on test dataset: %.4f' %test_accuracy)"
   ]
  },
  {
   "cell_type": "code",
   "execution_count": null,
   "metadata": {
    "collapsed": false
   },
   "outputs": [],
   "source": [
    "mlp.print_classification_results(cifar10.test.data, cifar10.test.one_hot_labels, cifar10.test.class_labels,\n",
    "                                 test_class_names=cifar10.classes, normalize=True)"
   ]
  },
  {
   "cell_type": "markdown",
   "metadata": {},
   "source": [
    "### Step 2.6: Plot results"
   ]
  },
  {
   "cell_type": "code",
   "execution_count": null,
   "metadata": {
    "collapsed": false
   },
   "outputs": [],
   "source": [
    "mlp.plot_loss()"
   ]
  },
  {
   "cell_type": "code",
   "execution_count": null,
   "metadata": {
    "collapsed": false
   },
   "outputs": [],
   "source": [
    "mlp.plot_accuracy()"
   ]
  },
  {
   "cell_type": "markdown",
   "metadata": {},
   "source": [
    "### Step 2.7: Close the session"
   ]
  },
  {
   "cell_type": "code",
   "execution_count": null,
   "metadata": {
    "collapsed": false
   },
   "outputs": [],
   "source": [
    "mlp.close()"
   ]
  },
  {
   "cell_type": "markdown",
   "metadata": {},
   "source": [
    "## Step 3: Write to file"
   ]
  },
  {
   "cell_type": "code",
   "execution_count": null,
   "metadata": {
    "collapsed": true
   },
   "outputs": [],
   "source": [
    "def output_HTML(read_file, output_file):\n",
    "    from nbconvert import HTMLExporter\n",
    "    import codecs\n",
    "    import nbformat\n",
    "    exporter = HTMLExporter()\n",
    "    output_notebook = nbformat.read(read_file, as_version=4)\n",
    "    print()\n",
    "    output, resources = exporter.from_notebook_node(output_notebook)\n",
    "    codecs.open(output_file, 'w', encoding='utf-8').write(output)"
   ]
  },
  {
   "cell_type": "code",
   "execution_count": null,
   "metadata": {
    "collapsed": false
   },
   "outputs": [],
   "source": [
    "%%javascript\n",
    "var notebook = IPython.notebook\n",
    "notebook.save_notebook()"
   ]
  },
  {
   "cell_type": "code",
   "execution_count": null,
   "metadata": {
    "collapsed": false
   },
   "outputs": [],
   "source": [
    "%%javascript\n",
    "var kernel = IPython.notebook.kernel;\n",
    "var thename = window.document.getElementById(\"notebook_name\").innerHTML;\n",
    "var command = \"theNotebook = \" + \"'\"+thename+\"'\";\n",
    "kernel.execute(command);"
   ]
  },
  {
   "cell_type": "code",
   "execution_count": null,
   "metadata": {
    "collapsed": false
   },
   "outputs": [],
   "source": [
    "current_file = './' + theNotebook + '.ipynb'\n",
    "output_file = log_dir + str(file_no).zfill(2) + '_exp_no_' + str(exp_no).zfill(3) + '_' + theNotebook + '.html'\n",
    "print('Current file: ' + str(current_file))\n",
    "print('Output file: ' + str(output_file))\n",
    "file_utils.mkdir_p(log_dir) \n",
    "output_HTML(current_file, output_file)"
   ]
  },
  {
   "cell_type": "code",
   "execution_count": null,
   "metadata": {
    "collapsed": true
   },
   "outputs": [],
   "source": []
  }
 ],
 "metadata": {
  "kernelspec": {
   "display_name": "Python 3",
   "language": "python",
   "name": "python3"
  },
  "language_info": {
   "codemirror_mode": {
    "name": "ipython",
    "version": 3
   },
   "file_extension": ".py",
   "mimetype": "text/x-python",
   "name": "python",
   "nbconvert_exporter": "python",
   "pygments_lexer": "ipython3",
   "version": "3.6.0"
  }
 },
 "nbformat": 4,
 "nbformat_minor": 0
}
