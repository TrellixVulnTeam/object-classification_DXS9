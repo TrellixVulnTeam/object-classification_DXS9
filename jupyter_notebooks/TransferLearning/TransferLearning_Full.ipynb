{
 "cells": [
  {
   "cell_type": "code",
   "execution_count": 1,
   "metadata": {
    "collapsed": true
   },
   "outputs": [],
   "source": [
    "# Reference : https://github.com/Hvass-Labs/TensorFlow-Tutorials\n",
    "\n",
    "#import matplotlib.pyplot as plt\n",
    "import numpy as np\n",
    "import tensorflow as tf\n",
    "import os\n",
    "import pickle\n",
    "import prettytensor as pt\n",
    "import time\n",
    "\n",
    "%matplotlib inline"
   ]
  },
  {
   "cell_type": "code",
   "execution_count": 2,
   "metadata": {
    "collapsed": true
   },
   "outputs": [],
   "source": [
    "# Load CIFAR10\n",
    "cifar_dir = \"./data/CIFAR-10/cifar-10-batches-py/\"\n",
    "cifar_train_cache = \"./data/CIFAR-10/inception_cifar10_train.pkl\"\n",
    "cifar_test_cache = \"./data/CIFAR-10/inception_cifar10_test.pkl\"\n",
    "train_sz = 50000\n",
    "test_sz = 10000\n",
    "img_sz = 32\n",
    "num_channels = 3\n",
    "num_classes = 10\n"
   ]
  },
  {
   "cell_type": "code",
   "execution_count": 3,
   "metadata": {
    "collapsed": true
   },
   "outputs": [],
   "source": [
    "def unpickle(filename):\n",
    "    fpath = cifar_dir+filename\n",
    "    print(\"Loading \"+fpath)\n",
    "    file = open(fpath,mode='rb')\n",
    "    data = pickle.load(file, encoding='bytes')\n",
    "#     data = pickle.load(file, encoding='utf-8')\n",
    "    file.close()\n",
    "    return data\n",
    "\n",
    "def decode(filename):\n",
    "    data = unpickle(filename)\n",
    "    raw_images = data[b'data']\n",
    "    cls = np.array(data[b'labels'])\n",
    "    images = np.array(raw_images, dtype=float).reshape([-1, num_channels, img_sz, img_sz])\n",
    "    images = images.transpose([0, 2, 3, 1])\n",
    "    return images, cls\n",
    "\n",
    "def one_hotit(data):\n",
    "    return np.eye(num_classes, dtype=float)[data]\n",
    "\n",
    "def load_data():\n",
    "    print(\"Loading tarin data\")\n",
    "    train_images = np.zeros(shape=[train_sz, img_sz, img_sz, num_channels], dtype=float)\n",
    "    train_int_labels = np.zeros(shape=[train_sz], dtype=int)\n",
    "\n",
    "    begin = 0\n",
    "    for i in range(5):\n",
    "        data_file = \"data_batch_\"+str(i+1)\n",
    "        print(\"Loading \"+data_file)\n",
    "        images_batch, cls_batch = decode(data_file)\n",
    "        num_images = len(images_batch)\n",
    "        end = begin + num_images\n",
    "        train_images[begin:end, :] = images_batch\n",
    "        train_int_labels[begin:end] = cls_batch\n",
    "        begin = end\n",
    "        \n",
    "    print(\"Loading test data\")\n",
    "    test_images, test_int_labels = decode(\"test_batch\")\n",
    "    return train_images, train_int_labels, test_images, test_int_labels\n",
    "\n"
   ]
  },
  {
   "cell_type": "code",
   "execution_count": 4,
   "metadata": {
    "collapsed": false
   },
   "outputs": [
    {
     "name": "stdout",
     "output_type": "stream",
     "text": [
      "Loading tarin data\n",
      "Loading data_batch_1\n",
      "Loading ./data/CIFAR-10/cifar-10-batches-py/data_batch_1\n",
      "Loading data_batch_2\n",
      "Loading ./data/CIFAR-10/cifar-10-batches-py/data_batch_2\n",
      "Loading data_batch_3\n",
      "Loading ./data/CIFAR-10/cifar-10-batches-py/data_batch_3\n",
      "Loading data_batch_4\n",
      "Loading ./data/CIFAR-10/cifar-10-batches-py/data_batch_4\n",
      "Loading data_batch_5\n",
      "Loading ./data/CIFAR-10/cifar-10-batches-py/data_batch_5\n",
      "Loading test data\n",
      "Loading ./data/CIFAR-10/cifar-10-batches-py/test_batch\n"
     ]
    }
   ],
   "source": [
    "train_images, train_int_labels, test_images, test_int_labels = load_data()"
   ]
  },
  {
   "cell_type": "code",
   "execution_count": 5,
   "metadata": {
    "collapsed": true
   },
   "outputs": [],
   "source": [
    "train_labels = one_hotit(train_int_labels)\n",
    "test_labels = one_hotit(test_int_labels)"
   ]
  },
  {
   "cell_type": "code",
   "execution_count": 6,
   "metadata": {
    "collapsed": false
   },
   "outputs": [
    {
     "name": "stdout",
     "output_type": "stream",
     "text": [
      "Loading ./data/CIFAR-10/cifar-10-batches-py/batches.meta\n"
     ]
    }
   ],
   "source": [
    "metadata = unpickle(\"batches.meta\")[b'label_names']\n",
    "classnames = [x.decode('utf-8') for x in metadata]"
   ]
  },
  {
   "cell_type": "code",
   "execution_count": 8,
   "metadata": {
    "collapsed": false
   },
   "outputs": [
    {
     "name": "stdout",
     "output_type": "stream",
     "text": [
      "Downloading Inception v3 Model ...\n",
      "- Download progress: 100.0%\n",
      "Download finished. Extracting files.\n",
      "Done.\n"
     ]
    }
   ],
   "source": [
    "# Load inception model\n",
    "# Reference : https://github.com/Hvass-Labs/TensorFlow-Tutorials\n",
    "import inception\n",
    "from inception import transfer_values_cache\n",
    "inception.maybe_download()\n",
    "model = inception.Inception()"
   ]
  },
  {
   "cell_type": "code",
   "execution_count": null,
   "metadata": {
    "collapsed": false
   },
   "outputs": [],
   "source": [
    "train_transfer_values = transfer_values_cache(cache_path=cifar_train_cache , images=train_images, model=model)"
   ]
  },
  {
   "cell_type": "code",
   "execution_count": null,
   "metadata": {
    "collapsed": false
   },
   "outputs": [],
   "source": [
    "test_transfer_values = transfer_values_cache(cache_path=cifar_test_cache , images=test_images, model=model)"
   ]
  },
  {
   "cell_type": "code",
   "execution_count": null,
   "metadata": {
    "collapsed": false
   },
   "outputs": [],
   "source": [
    "# TF variables\n",
    "x = tf.placeholder(tf.float32, shape=[None, model.transfer_len], name='x')\n",
    "y_onehot = tf.placeholder(tf.float32, shape=[None, num_classes], name='y_onehot')\n",
    "y_int = tf.argmax(y_onehot, dimension=1)\n",
    "\n",
    "\n",
    "# Neural Network\n",
    "x_pretty = pt.wrap(x)\n",
    "with pt.defaults_scope(activation_fn=tf.nn.relu):\n",
    "    y_pred, loss = x_pretty.\\\n",
    "    fully_connected(size=100, name='layer_fc1').\\\n",
    "    fully_connected(size=10, name='layer_fc2').\\\n",
    "    softmax_classifier(num_classes=num_classes, labels=y_onehot)\n",
    "\n",
    "# Optimizer and step counter\n",
    "global_step = tf.Variable(initial_value=0, name='global_step', trainable=False)\n",
    "optimizer = tf.train.AdamOptimizer(learning_rate=1e-4).minimize(loss, global_step)\n",
    "    \n",
    "# TF test \n",
    "ty_int = tf.argmax(y_pred, dimension=1)\n",
    "correct_prediction = tf.equal(y_int, ty_int)\n",
    "accuracy = tf.reduce_mean(tf.cast(correct_prediction, tf.float32))"
   ]
  },
  {
   "cell_type": "code",
   "execution_count": null,
   "metadata": {
    "collapsed": true
   },
   "outputs": [],
   "source": [
    "session = tf.Session()"
   ]
  },
  {
   "cell_type": "code",
   "execution_count": null,
   "metadata": {
    "collapsed": true
   },
   "outputs": [],
   "source": [
    "session.run(tf.global_variables_initializer())"
   ]
  },
  {
   "cell_type": "code",
   "execution_count": null,
   "metadata": {
    "collapsed": true
   },
   "outputs": [],
   "source": [
    "batch_size = 256 # Change to limit RAM consumption"
   ]
  },
  {
   "cell_type": "code",
   "execution_count": null,
   "metadata": {
    "collapsed": true
   },
   "outputs": [],
   "source": [
    "def random_batch():\n",
    "    idx = np.random.choice(train_sz, size=batch_size, replace=False)\n",
    "    x_batch = train_transfer_values[idx]\n",
    "    y_batch = train_labels[idx]\n",
    "    return x_batch, y_batch"
   ]
  },
  {
   "cell_type": "code",
   "execution_count": null,
   "metadata": {
    "collapsed": true
   },
   "outputs": [],
   "source": [
    "def optimize(num_iterations):\n",
    "    tstart = time.time()\n",
    "    for i in range(num_iterations):\n",
    "        x_batch, y_batch = random_batch()\n",
    "        feed_dict_train = {x: x_batch, y_onehot: y_batch}\n",
    "        i_global,_ = session.run([global_step, optimizer], feed_dict=feed_dict_train)\n",
    "        if (i_global % 50 == 0) or (i == num_iterations - 1):\n",
    "            batch_acc = session.run(accuracy, feed_dict=feed_dict_train)\n",
    "            msg = \"Global Step: {0:>6}, Training Batch Accuracy: {1:>6.1%}\"\n",
    "            print(msg.format(i_global, batch_acc))\n",
    "\n",
    "    tend = time.time()\n",
    "    diff = tend - tstart\n",
    "    print(\"Total time : \" + str(diff) + \" seconds\")"
   ]
  },
  {
   "cell_type": "code",
   "execution_count": null,
   "metadata": {
    "collapsed": true
   },
   "outputs": [],
   "source": [
    "def predict():\n",
    "    pred = np.zeros(shape=test_sz, dtype=np.int)\n",
    "    i = 0\n",
    "    while i < test_sz:\n",
    "        j = min(i + batch_size, test_sz)\n",
    "        feed_dict = {x: test_transfer_values[i:j], y_onehot: test_labels[i:j]}\n",
    "        pred[i:j] = session.run(ty_int, feed_dict=feed_dict)\n",
    "        i = j\n",
    "    correct = (test_int_labels == pred)\n",
    "    return correct, pred"
   ]
  },
  {
   "cell_type": "code",
   "execution_count": null,
   "metadata": {
    "collapsed": true
   },
   "outputs": [],
   "source": [
    "from sklearn.metrics import confusion_matrix\n",
    "def plot_confusion_matrix(cls_pred):\n",
    "    cm = confusion_matrix(y_true=test_int_labels, y_pred=cls_pred)\n",
    "    for i in range(num_classes):\n",
    "        # Append the class-name to each line.\n",
    "        classname = \"({}) {}\".format(i, classnames[i])\n",
    "        print(cm[i, :], classname)\n",
    "    # Print the class-numbers for easy reference.\n",
    "    class_numbers = [\" ({0})\".format(i) for i in range(num_classes)]\n",
    "    print(\"\".join(class_numbers))"
   ]
  },
  {
   "cell_type": "code",
   "execution_count": null,
   "metadata": {
    "collapsed": true
   },
   "outputs": [],
   "source": [
    "def print_accuracy():\n",
    "    correct, pred = predict()\n",
    "    msg = \"Accuracy on Test-Set: {0:.1%} ({1} / {2})\"\n",
    "    print(msg.format(correct.mean(), correct.sum(), test_sz))\n",
    "    print(\"Confusion Matrix:\")\n",
    "    plot_confusion_matrix(pred)"
   ]
  },
  {
   "cell_type": "code",
   "execution_count": null,
   "metadata": {
    "collapsed": false
   },
   "outputs": [],
   "source": [
    "print_accuracy()"
   ]
  },
  {
   "cell_type": "code",
   "execution_count": null,
   "metadata": {
    "collapsed": false
   },
   "outputs": [],
   "source": [
    "optimize(num_iterations=50)"
   ]
  },
  {
   "cell_type": "code",
   "execution_count": null,
   "metadata": {
    "collapsed": false
   },
   "outputs": [],
   "source": [
    "print_accuracy()"
   ]
  },
  {
   "cell_type": "code",
   "execution_count": null,
   "metadata": {
    "collapsed": false
   },
   "outputs": [],
   "source": [
    "import sys\n",
    "sys.path.insert(0, '../')\n",
    "from library.plot_tools import plot_tools\n",
    "import sklearn.metrics as skm\n",
    "\n",
    "correct, pred = predict()\n",
    "plot_tools.plot_confusion_matrix(test_int_labels, pred, classes=classnames,\n",
    "                                 normalize=True, title='Confusion matrix for test set using Inception model')"
   ]
  },
  {
   "cell_type": "code",
   "execution_count": null,
   "metadata": {
    "collapsed": true
   },
   "outputs": [],
   "source": []
  }
 ],
 "metadata": {
  "kernelspec": {
   "display_name": "Python 3",
   "language": "python",
   "name": "python3"
  },
  "language_info": {
   "codemirror_mode": {
    "name": "ipython",
    "version": 3
   },
   "file_extension": ".py",
   "mimetype": "text/x-python",
   "name": "python",
   "nbconvert_exporter": "python",
   "pygments_lexer": "ipython3",
   "version": "3.6.0"
  }
 },
 "nbformat": 4,
 "nbformat_minor": 2
}
