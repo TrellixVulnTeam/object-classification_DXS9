{
 "cells": [
  {
   "cell_type": "markdown",
   "metadata": {},
   "source": [
    "## Make necessary imports"
   ]
  },
  {
   "cell_type": "code",
   "execution_count": 1,
   "metadata": {
    "collapsed": true
   },
   "outputs": [],
   "source": [
    "import sys\n",
    "sys.path.append('../../')\n",
    "import time"
   ]
  },
  {
   "cell_type": "code",
   "execution_count": 2,
   "metadata": {
    "collapsed": false
   },
   "outputs": [],
   "source": [
    "from library.datasets.cifar.cifar10 import CIFAR10\n",
    "from library.utils import file_utils"
   ]
  },
  {
   "cell_type": "code",
   "execution_count": 3,
   "metadata": {
    "collapsed": true
   },
   "outputs": [],
   "source": [
    "total_time = 0\n",
    "exp_no = 1"
   ]
  },
  {
   "cell_type": "code",
   "execution_count": 4,
   "metadata": {
    "collapsed": false
   },
   "outputs": [],
   "source": [
    "output_directory = '../../models/cifar10/load_cifar10_dataset/'\n",
    "dataset_file = output_directory + 'cifar10_dataset.h5'\n",
    "file_utils.mkdir_p(output_directory)\n",
    "num_train_images = 1.0"
   ]
  },
  {
   "cell_type": "markdown",
   "metadata": {},
   "source": [
    "## Load CIFAR 10 Dataset"
   ]
  },
  {
   "cell_type": "code",
   "execution_count": 5,
   "metadata": {
    "collapsed": false
   },
   "outputs": [
    {
     "name": "stdout",
     "output_type": "stream",
     "text": [
      "CIFAR10 class constructor - 0.0007 seconds\n"
     ]
    }
   ],
   "source": [
    "start = time.time()\n",
    "cifar10 = CIFAR10(num_images=num_train_images, save_h5py=dataset_file)\n",
    "end = time.time()\n",
    "total_time += (end-start)\n",
    "print('CIFAR10 class constructor - %.4f seconds' % (end-start))"
   ]
  },
  {
   "cell_type": "code",
   "execution_count": 6,
   "metadata": {
    "collapsed": false
   },
   "outputs": [
    {
     "name": "stdout",
     "output_type": "stream",
     "text": [
      "Loading CIFAR 10 Dataset\n",
      "Downloading and extracting CIFAR 10 file\n",
      "MD5sum of the file: ../../datasets/cifar10/cifar-10.tar.gz is verified\n",
      "\n",
      "Loading 50000 train images\n",
      "Loading CIFAR 10 Training Dataset\n",
      "Reading unpicked data file: ../../datasets/cifar10/cifar-10-batches/data_batch_1\n",
      "Reading unpicked data file: ../../datasets/cifar10/cifar-10-batches/data_batch_2\n",
      "Reading unpicked data file: ../../datasets/cifar10/cifar-10-batches/data_batch_3\n",
      "Reading unpicked data file: ../../datasets/cifar10/cifar-10-batches/data_batch_4\n",
      "Reading unpicked data file: ../../datasets/cifar10/cifar-10-batches/data_batch_5\n",
      "Written CIFAR 10 train dataset to file: ../../models/cifar10/load_cifar10_dataset/cifar10_dataset.h5\n",
      "\n",
      "Loading 10000 test images\n",
      "Loading CIFAR 10 Test Dataset\n",
      "Unpickling test file: ../../datasets/cifar10/cifar-10-batches/test_batch\n",
      "Reading unpicked test file: ../../datasets/cifar10/cifar-10-batches/test_batch\n",
      "Written CIFAR 10 test dataset to file: ../../models/cifar10/load_cifar10_dataset/cifar10_dataset.h5\n",
      "\n",
      "Loaded CIFAR 10 Dataset in 17.4759 seconds\n",
      "Loaded CIFAR10 dataset in 17.4764 seconds\n"
     ]
    }
   ],
   "source": [
    "start = time.time()\n",
    "cifar10.load_data(data_directory='../../datasets/cifar10/')\n",
    "end = time.time()\n",
    "total_time += (end-start)\n",
    "print('Loaded CIFAR10 dataset in %.4f seconds' % (end-start))"
   ]
  },
  {
   "cell_type": "markdown",
   "metadata": {},
   "source": [
    "## Plot CIFAR 10 Train dataset"
   ]
  },
  {
   "cell_type": "code",
   "execution_count": 7,
   "metadata": {
    "collapsed": false
   },
   "outputs": [
    {
     "ename": "TypeError",
     "evalue": "plot_sample() got an unexpected keyword argument 'plot_data'",
     "output_type": "error",
     "traceback": [
      "\u001b[0;31m---------------------------------------------------------------------------\u001b[0m",
      "\u001b[0;31mTypeError\u001b[0m                                 Traceback (most recent call last)",
      "\u001b[0;32m<ipython-input-7-1f453a09f2e5>\u001b[0m in \u001b[0;36m<module>\u001b[0;34m()\u001b[0m\n\u001b[0;32m----> 1\u001b[0;31m \u001b[0mcifar10\u001b[0m\u001b[0;34m.\u001b[0m\u001b[0mplot_sample\u001b[0m\u001b[0;34m(\u001b[0m\u001b[0mplot_data\u001b[0m\u001b[0;34m=\u001b[0m\u001b[0;32mTrue\u001b[0m\u001b[0;34m,\u001b[0m \u001b[0mplot_test\u001b[0m\u001b[0;34m=\u001b[0m\u001b[0;32mFalse\u001b[0m\u001b[0;34m)\u001b[0m\u001b[0;34m\u001b[0m\u001b[0m\n\u001b[0m",
      "\u001b[0;31mTypeError\u001b[0m: plot_sample() got an unexpected keyword argument 'plot_data'"
     ]
    }
   ],
   "source": [
    "cifar10.plot_sample(plot_data=True, plot_test=False)"
   ]
  },
  {
   "cell_type": "code",
   "execution_count": null,
   "metadata": {
    "collapsed": false
   },
   "outputs": [],
   "source": [
    "cifar10.plot_images(cifar10.train.images, cifar10.train.class_names, cls_pred=None, nrows=3, ncols=3, \n",
    "                    fig_size=(7,7), fontsize=15, convert=False, type='rgb')"
   ]
  },
  {
   "cell_type": "markdown",
   "metadata": {},
   "source": [
    "## Plot CIFAR 10 Test dataset"
   ]
  },
  {
   "cell_type": "code",
   "execution_count": null,
   "metadata": {
    "collapsed": false
   },
   "outputs": [],
   "source": [
    "cifar10.plot_sample(plot_data=False, plot_test=True)"
   ]
  },
  {
   "cell_type": "code",
   "execution_count": null,
   "metadata": {
    "collapsed": false
   },
   "outputs": [],
   "source": [
    "cifar10.plot_images(cifar10.test.images, cifar10.test.class_names, cls_pred=None, nrows=3, ncols=3, \n",
    "                    fig_size=(7,7), fontsize=15, convert=False, type='rgb')"
   ]
  },
  {
   "cell_type": "markdown",
   "metadata": {},
   "source": [
    "## Write the notebook to HTML file"
   ]
  },
  {
   "cell_type": "code",
   "execution_count": null,
   "metadata": {
    "collapsed": true
   },
   "outputs": [],
   "source": [
    "def output_HTML(read_file, output_file):\n",
    "    from nbconvert import HTMLExporter\n",
    "    import codecs\n",
    "    import nbformat\n",
    "    exporter = HTMLExporter()\n",
    "    output_notebook = nbformat.read(read_file, as_version=4)\n",
    "    print()\n",
    "    output, resources = exporter.from_notebook_node(output_notebook)\n",
    "    codecs.open(output_file, 'w', encoding='utf-8').write(output)"
   ]
  },
  {
   "cell_type": "code",
   "execution_count": null,
   "metadata": {
    "collapsed": false
   },
   "outputs": [],
   "source": [
    "%%javascript\n",
    "var notebook = IPython.notebook\n",
    "notebook.save_notebook()"
   ]
  },
  {
   "cell_type": "code",
   "execution_count": null,
   "metadata": {
    "collapsed": false
   },
   "outputs": [],
   "source": [
    "%%javascript\n",
    "var kernel = IPython.notebook.kernel;\n",
    "var thename = window.document.getElementById(\"notebook_name\").innerHTML;\n",
    "var command = \"theNotebook = \" + \"'\"+thename+\"'\";\n",
    "kernel.execute(command);"
   ]
  },
  {
   "cell_type": "code",
   "execution_count": null,
   "metadata": {
    "collapsed": false
   },
   "outputs": [],
   "source": [
    "current_file = './' + theNotebook + '.ipynb'\n",
    "output_file = output_directory + 'exp_no_' + str(exp_no).zfill(2) + '_' + theNotebook + '.html'\n",
    "print('Current file: ' + str(current_file))\n",
    "print('Output file: ' + str(output_file))\n",
    "file_utils.mkdir_p(output_directory) \n",
    "output_HTML(current_file, output_file)"
   ]
  },
  {
   "cell_type": "code",
   "execution_count": null,
   "metadata": {
    "collapsed": false
   },
   "outputs": [],
   "source": [
    "print('Code took %.6f s to run on training with %d examples' % (total_time,num_train_images))"
   ]
  },
  {
   "cell_type": "code",
   "execution_count": null,
   "metadata": {
    "collapsed": true
   },
   "outputs": [],
   "source": []
  }
 ],
 "metadata": {
  "kernelspec": {
   "display_name": "Python 3",
   "language": "python",
   "name": "python3"
  },
  "language_info": {
   "codemirror_mode": {
    "name": "ipython",
    "version": 3
   },
   "file_extension": ".py",
   "mimetype": "text/x-python",
   "name": "python",
   "nbconvert_exporter": "python",
   "pygments_lexer": "ipython3",
   "version": "3.6.0"
  }
 },
 "nbformat": 4,
 "nbformat_minor": 2
}
