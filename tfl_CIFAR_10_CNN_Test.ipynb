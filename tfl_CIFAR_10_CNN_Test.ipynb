{
 "cells": [
  {
   "cell_type": "code",
   "execution_count": 1,
   "metadata": {
    "collapsed": false
   },
   "outputs": [
    {
     "name": "stdout",
     "output_type": "stream",
     "text": [
      "None\n"
     ]
    }
   ],
   "source": [
    "from __future__ import division, print_function, absolute_import\n",
    "\n",
    "import tflearn\n",
    "from tflearn.data_utils import shuffle, to_categorical\n",
    "from tflearn.layers.core import input_data, dropout, fully_connected\n",
    "from tflearn.layers.conv import conv_2d, max_pool_2d\n",
    "from tflearn.layers.estimator import regression\n",
    "from tflearn.data_preprocessing import ImagePreprocessing\n",
    "from tflearn.data_augmentation import ImageAugmentation\n",
    "\n",
    "import sys, time\n",
    "import numpy as np\n",
    "sys.path.insert(0, '../')\n",
    "import tensorflow as tf\n",
    "from library.datasets import cifar10\n",
    "from sklearn.preprocessing import StandardScaler, MinMaxScaler\n",
    "from library.utils import file_utils\n",
    "from sklearn.model_selection import train_test_split\n",
    "from sklearn.metrics import accuracy_score"
   ]
  },
  {
   "cell_type": "code",
   "execution_count": 2,
   "metadata": {
    "collapsed": true
   },
   "outputs": [],
   "source": [
    "total_time = 0"
   ]
  },
  {
   "cell_type": "code",
   "execution_count": 3,
   "metadata": {
    "collapsed": false
   },
   "outputs": [
    {
     "name": "stdout",
     "output_type": "stream",
     "text": [
      "Loading CIFAR 10 Dataset\n",
      "Downloading and extracting CIFAR 10 file\n",
      "MD5sum of the file: ./datasets/cifar10/cifar-10.tar.gz is verified\n",
      "Loading 50000 train images\n",
      "Loading CIFAR 10 Training Dataset\n",
      "Reading unpicked data file: ./datasets/cifar10/cifar-10-batches/data_batch_1\n",
      "Reading unpicked data file: ./datasets/cifar10/cifar-10-batches/data_batch_2\n",
      "Reading unpicked data file: ./datasets/cifar10/cifar-10-batches/data_batch_3\n",
      "Reading unpicked data file: ./datasets/cifar10/cifar-10-batches/data_batch_4\n",
      "Reading unpicked data file: ./datasets/cifar10/cifar-10-batches/data_batch_5\n",
      "Loading 10000 test images\n",
      "Loading CIFAR 10 Test Dataset\n",
      "Unpickling test file: ./datasets/cifar10/cifar-10-batches/test_batch\n",
      "Reading unpicked test file: ./datasets/cifar10/cifar-10-batches/test_batch\n",
      "Loaded CIFAR 10 Dataset in 9.2391 seconds\n"
     ]
    },
    {
     "data": {
      "text/plain": [
       "True"
      ]
     },
     "execution_count": 3,
     "metadata": {},
     "output_type": "execute_result"
    }
   ],
   "source": [
    "cifar10_dataset = cifar10.CIFAR10(one_hot_encode=True, num_images=1.0, image_mode='rgb_float',\n",
    "                                  train_validate_split=None, endian='little')\n",
    "cifar10_dataset.load_data(train=True, test=True, data_directory='./datasets/cifar10/')"
   ]
  },
  {
   "cell_type": "code",
   "execution_count": 4,
   "metadata": {
    "collapsed": false
   },
   "outputs": [],
   "source": [
    "X = cifar10_dataset.train.images\n",
    "Y = cifar10_dataset.train.one_hot_labels\n",
    "X_test = cifar10_dataset.test.images\n",
    "Y_test = cifar10_dataset.test.one_hot_labels\n",
    "\n",
    "X_train, X_validate, Y_train, Y_validate = train_test_split(X, Y, test_size=0.2, random_state=1)\n"
   ]
  },
  {
   "cell_type": "code",
   "execution_count": 5,
   "metadata": {
    "collapsed": false
   },
   "outputs": [],
   "source": [
    "exp_no = 1\n",
    "file_no = 20\n",
    "dataset = 'cifar10'\n"
   ]
  },
  {
   "cell_type": "code",
   "execution_count": 6,
   "metadata": {
    "collapsed": true
   },
   "outputs": [],
   "source": [
    "model_dir='./logs/model1'"
   ]
  },
  {
   "cell_type": "code",
   "execution_count": 7,
   "metadata": {
    "collapsed": false
   },
   "outputs": [
    {
     "name": "stdout",
     "output_type": "stream",
     "text": [
      "Writing tensorboard logs to ../logs/cifar10/20_tf_cnn/exp_no_1/tflearncnn_classifier.ckpt\n",
      "view logs by running tensorboard: \"tensorboard --logdir='./10_tf_cnn/' --port 61111\"\n"
     ]
    }
   ],
   "source": [
    "log_dir = '../logs/' + dataset + '/' + str(file_no).zfill(2) + '_tf_cnn/exp_no_' + str(exp_no) + '/'\n",
    "#ck_path = '../ckpts/' + 'ckpt_tf_cnn/exp_no_' + str(exp_no) + '/'+'model.tfl.ckpt'\n",
    "#cptfile = model.tfl.ckpt\n",
    "ck_path = log_dir + 'model.tfl.ckpt'\n",
    "log_file = log_dir + 'tflearncnn_classifier.ckpt'\n",
    "print('Writing tensorboard logs to %s' %log_file)\n",
    "print('view logs by running tensorboard: ', end='')\n",
    "print('\\\"tensorboard --logdir=\\'./10_tf_cnn/\\' --port 61111\\\"')"
   ]
  },
  {
   "cell_type": "code",
   "execution_count": null,
   "metadata": {
    "collapsed": false
   },
   "outputs": [],
   "source": []
  },
  {
   "cell_type": "code",
   "execution_count": 8,
   "metadata": {
    "collapsed": true
   },
   "outputs": [],
   "source": [
    "# Real-time data preprocessing\n",
    "img_prep = ImagePreprocessing()\n",
    "img_prep.add_featurewise_zero_center()\n",
    "img_prep.add_featurewise_stdnorm()"
   ]
  },
  {
   "cell_type": "code",
   "execution_count": 9,
   "metadata": {
    "collapsed": true
   },
   "outputs": [],
   "source": [
    "# Real-time data augmentation\n",
    "img_aug = ImageAugmentation()\n",
    "img_aug.add_random_flip_leftright()\n",
    "img_aug.add_random_rotation(max_angle=25.)"
   ]
  },
  {
   "cell_type": "code",
   "execution_count": 10,
   "metadata": {
    "collapsed": true
   },
   "outputs": [],
   "source": [
    "network = input_data(shape=[None, 32, 32, 3],data_preprocessing=img_prep,data_augmentation=img_aug)\n",
    "#network = input_data(shape=[None, 32, 32, 3])"
   ]
  },
  {
   "cell_type": "code",
   "execution_count": 11,
   "metadata": {
    "collapsed": false
   },
   "outputs": [],
   "source": [
    "# 0.80589\n",
    "# network = conv_2d(network, 32, 3, activation='relu')\n",
    "# network = max_pool_2d(network, 2)\n",
    "# network = conv_2d(network, 128, 3, activation='relu')\n",
    "# network = max_pool_2d(network, 2)\n",
    "# network = conv_2d(network, 512, 3, activation='relu')\n",
    "# network = max_pool_2d(network, 2)\n",
    "# network = fully_connected(network, 1024, activation='relu')\n",
    "# network = dropout(network, 0.5)\n",
    "# network = fully_connected(network, 10, activation='softmax')\n",
    "# network = regression(network, optimizer='adam',\n",
    "#                      loss='categorical_crossentropy',\n",
    "#                      learning_rate=0.001)\n",
    "network = conv_2d(network, 32, 3, activation='relu')\n",
    "network = max_pool_2d(network, 2)\n",
    "network = conv_2d(network, 64, 3, activation='relu')\n",
    "network = max_pool_2d(network, 2)\n",
    "network = conv_2d(network, 128, 3, activation='relu')\n",
    "network = max_pool_2d(network, 2)\n",
    "network = conv_2d(network, 512, 3, activation='relu')\n",
    "network = max_pool_2d(network, 2)\n",
    "network = fully_connected(network, 1024, activation='relu')\n",
    "network = dropout(network, 0.5)\n",
    "network = fully_connected(network, 2048, activation='relu')\n",
    "network = dropout(network, 0.5)\n",
    "network = fully_connected(network, 10, activation='softmax')\n",
    "network = regression(network, optimizer='adam',\n",
    "                     loss='categorical_crossentropy',\n",
    "                     learning_rate=0.001)"
   ]
  },
  {
   "cell_type": "code",
   "execution_count": 12,
   "metadata": {
    "collapsed": false
   },
   "outputs": [
    {
     "name": "stdout",
     "output_type": "stream",
     "text": [
      "Training Step: 2084  | total loss: \u001b[1m\u001b[32m0.85927\u001b[0m\u001b[0m | time: 127.289s\n",
      "| Adam | epoch: 005 | loss: 0.85927 - acc: 0.6946 -- iter: 39936/40000\n",
      "Training Step: 2085  | total loss: \u001b[1m\u001b[32m0.86514\u001b[0m\u001b[0m | time: 134.203s\n",
      "| Adam | epoch: 005 | loss: 0.86514 - acc: 0.6949 | val_loss: 0.79440 - val_acc: 0.7192 -- iter: 40000/40000\n",
      "--\n",
      "INFO:tensorflow:/home/ml/Documents/MLp/zip/logs/cifar10/20_tf_cnn/exp_no_1/model.tfl.ckpt-2085 is not in all_model_checkpoint_paths. Manually adding it.\n",
      "686.200014591217\n"
     ]
    }
   ],
   "source": [
    "start = time.time()\n",
    "model = tflearn.DNN(network, tensorboard_verbose=1,tensorboard_dir=log_file,checkpoint_path=ck_path)\n",
    "#model.load(ck_path)\n",
    "\n",
    "model.fit(X_train, Y_train, n_epoch=5, shuffle=True,snapshot_epoch=True, validation_set=(X_validate, Y_validate),\n",
    "          show_metric=True, batch_size=96, run_id='cifar10_cnn')\n",
    "end = time.time()\n",
    "print(end-start)"
   ]
  },
  {
   "cell_type": "code",
   "execution_count": 13,
   "metadata": {
    "collapsed": false
   },
   "outputs": [],
   "source": [
    "# labels = model.predict_label(X_test)"
   ]
  },
  {
   "cell_type": "code",
   "execution_count": 14,
   "metadata": {
    "collapsed": false
   },
   "outputs": [],
   "source": [
    "# labels1 = numpy.floor(numpy.divide(labels,numpy.amax(labels,axis=0)))\n",
    "# labels2 = numpy.argmax(labels1, axis=1, out=None)\n",
    "# print(labels2)\n",
    "# print(cifar10_dataset.test.class_labels)"
   ]
  },
  {
   "cell_type": "code",
   "execution_count": 15,
   "metadata": {
    "collapsed": false
   },
   "outputs": [],
   "source": [
    "# result = accuracy_score(cifar10_dataset.test.class_labels, labels2, normalize=True)\n",
    "# print(\"accuracy\",result)"
   ]
  },
  {
   "cell_type": "code",
   "execution_count": 16,
   "metadata": {
    "collapsed": false
   },
   "outputs": [
    {
     "data": {
      "text/plain": [
       "[0.7248]"
      ]
     },
     "execution_count": 16,
     "metadata": {},
     "output_type": "execute_result"
    }
   ],
   "source": [
    "model.evaluate(cifar10_dataset.test.images, cifar10_dataset.test.one_hot_labels)"
   ]
  },
  {
   "cell_type": "code",
   "execution_count": null,
   "metadata": {
    "collapsed": true
   },
   "outputs": [],
   "source": []
  },
  {
   "cell_type": "code",
   "execution_count": null,
   "metadata": {
    "collapsed": true
   },
   "outputs": [],
   "source": []
  }
 ],
 "metadata": {
  "kernelspec": {
   "display_name": "Python 3",
   "language": "python",
   "name": "python3"
  },
  "language_info": {
   "codemirror_mode": {
    "name": "ipython",
    "version": 3
   },
   "file_extension": ".py",
   "mimetype": "text/x-python",
   "name": "python",
   "nbconvert_exporter": "python",
   "pygments_lexer": "ipython3",
   "version": "3.6.0"
  }
 },
 "nbformat": 4,
 "nbformat_minor": 2
}
